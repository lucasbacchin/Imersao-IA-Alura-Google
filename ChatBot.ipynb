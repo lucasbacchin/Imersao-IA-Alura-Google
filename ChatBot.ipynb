{
  "nbformat": 4,
  "nbformat_minor": 0,
  "metadata": {
    "colab": {
      "provenance": [],
      "authorship_tag": "ABX9TyMquJ9J9oEu7byiYhO4A8Is",
      "include_colab_link": true
    },
    "kernelspec": {
      "name": "python3",
      "display_name": "Python 3"
    },
    "language_info": {
      "name": "python"
    }
  },
  "cells": [
    {
      "cell_type": "markdown",
      "metadata": {
        "id": "view-in-github",
        "colab_type": "text"
      },
      "source": [
        "<a href=\"https://colab.research.google.com/github/lucasbacchin/Imersao-IA-Alura-Google/blob/main/ChatBot.ipynb\" target=\"_parent\"><img src=\"https://colab.research.google.com/assets/colab-badge.svg\" alt=\"Open In Colab\"/></a>"
      ]
    },
    {
      "cell_type": "code",
      "execution_count": null,
      "metadata": {
        "id": "vglXyDo9X3n9"
      },
      "outputs": [],
      "source": []
    },
    {
      "cell_type": "markdown",
      "source": [
        "Instalando a SDK"
      ],
      "metadata": {
        "id": "9VVQOV_rYes7"
      }
    },
    {
      "cell_type": "code",
      "source": [
        "!pip install -q -U google-generativeai"
      ],
      "metadata": {
        "id": "-uSOZJ46Yf00"
      },
      "execution_count": 1,
      "outputs": []
    },
    {
      "cell_type": "code",
      "source": [
        "import google.generativeai as genai\n",
        "from google.colab import userdata\n",
        "api_key = userdata.get('SECRET_KEY')\n",
        "genai.configure(api_key=api_key)"
      ],
      "metadata": {
        "id": "KMeLKbcXYhFh"
      },
      "execution_count": 25,
      "outputs": []
    },
    {
      "cell_type": "markdown",
      "source": [
        "Listando os modelos disponíveis"
      ],
      "metadata": {
        "id": "oD1cjgQxZYHS"
      }
    },
    {
      "cell_type": "code",
      "source": [
        "for m in genai.list_models():\n",
        "  if 'generateContent' in m.supported_generation_methods:\n",
        "    print(m.name)"
      ],
      "metadata": {
        "colab": {
          "base_uri": "https://localhost:8080/",
          "height": 138
        },
        "id": "BX1AbuwTZvah",
        "outputId": "35d71890-efe7-406e-f2f7-6aba3711eca3"
      },
      "execution_count": 4,
      "outputs": [
        {
          "output_type": "stream",
          "name": "stdout",
          "text": [
            "models/gemini-1.0-pro\n",
            "models/gemini-1.0-pro-001\n",
            "models/gemini-1.0-pro-latest\n",
            "models/gemini-1.0-pro-vision-latest\n",
            "models/gemini-1.5-pro-latest\n",
            "models/gemini-pro\n",
            "models/gemini-pro-vision\n"
          ]
        }
      ]
    },
    {
      "cell_type": "markdown",
      "source": [
        "CONFIGURANDO PARÂMETROS DA GEMINI"
      ],
      "metadata": {
        "id": "i4NzFb-Ce3GU"
      }
    },
    {
      "cell_type": "code",
      "source": [
        "generation_config = {\"candidate_count\": 1,\n",
        "                     \"temperature\": 0.5\n",
        "                     }"
      ],
      "metadata": {
        "id": "icdYe1hlbz08"
      },
      "execution_count": 5,
      "outputs": []
    },
    {
      "cell_type": "code",
      "source": [
        "safety_settings = {\n",
        "    \"HARASSMENT\": 'BLOCK_NONE',\n",
        "    \"HATE\": 'BLOCK_NONE',\n",
        "    \"SEXUAL\": 'BLOCK_NONE',\n",
        "    \"DANGEROUS\": 'BLOCK_NONE',\n",
        "}"
      ],
      "metadata": {
        "id": "ndlf1aBzdIMe"
      },
      "execution_count": 8,
      "outputs": []
    },
    {
      "cell_type": "markdown",
      "source": [
        "INICIALIZANDO O MODELO"
      ],
      "metadata": {
        "id": "j2QizAEVfKqJ"
      }
    },
    {
      "cell_type": "code",
      "source": [
        "model = genai.GenerativeModel(model_name='gemini-1.0-pro',\n",
        "                              generation_config=generation_config,\n",
        "                              safety_settings=safety_settings)"
      ],
      "metadata": {
        "id": "FHBszJB0fMXB"
      },
      "execution_count": 11,
      "outputs": []
    },
    {
      "cell_type": "code",
      "source": [
        "response = model.generate_content('Vamos aprender sobre IA. Me dê sugestões.')\n",
        "print(response.text)"
      ],
      "metadata": {
        "colab": {
          "base_uri": "https://localhost:8080/",
          "height": 711
        },
        "id": "Yv-PKY-thinY",
        "outputId": "7ebbabc5-54e9-495e-f226-090ba6086afe"
      },
      "execution_count": 14,
      "outputs": [
        {
          "output_type": "stream",
          "name": "stdout",
          "text": [
            "**Recursos Online:**\n",
            "\n",
            "* **Coursera:** Cursos online gratuitos e pagos sobre IA, aprendizado de máquina e ciência de dados\n",
            "* **edX:** Cursos online gratuitos e pagos de universidades e organizações líderes\n",
            "* **Udemy:** Cursos online pagos sobre uma ampla gama de tópicos de IA\n",
            "* **MIT OpenCourseWare:** Materiais de cursos gratuitos do Massachusetts Institute of Technology\n",
            "* **Google AI Platform:** Documentação, tutoriais e recursos para desenvolvedores de IA\n",
            "* **IBM Watson Developer Cloud:** Recursos e ferramentas para construir e implantar aplicativos de IA\n",
            "\n",
            "**Livros:**\n",
            "\n",
            "* **Inteligência Artificial: Uma Abordagem Moderna (3ª Edição)** por Stuart Russell e Peter Norvig\n",
            "* **Aprendizado de Máquina (4ª Edição)** por Ethem Alpaydin\n",
            "* **Aprendizado Profundo** por Ian Goodfellow, Yoshua Bengio e Aaron Courville\n",
            "* **Inteligência Artificial: Um Guia Moderno** por Patrick Henry Winston\n",
            "* **Inteligência Artificial para Leigos** por John Paul Mueller e Luca Massaron\n",
            "\n",
            "**Eventos e Conferências:**\n",
            "\n",
            "* **Conferência Internacional sobre Aprendizado de Máquina (ICML)**\n",
            "* **Conferência Internacional sobre Representação do Conhecimento e Raciocínio (KR)**\n",
            "* **Conferência sobre Sistemas de Processamento de Informação Neural (NeurIPS)**\n",
            "* **Conferência AAAI sobre Inteligência Artificial**\n",
            "* **Encontros Locais de IA** (verifique grupos locais em sua área)\n",
            "\n",
            "**Comunidades Online:**\n",
            "\n",
            "* **Reddit r/ArtificialIntelligence:** Fórum de discussão sobre IA\n",
            "* **Stack Overflow:** Site de perguntas e respostas para desenvolvedores de IA\n",
            "* **Kaggle:** Plataforma de competição e aprendizado para cientistas de dados e profissionais de IA\n",
            "* **GitHub:** Repositório de código e projetos de IA de código aberto\n",
            "* **Meetup:** Grupos de encontro para profissionais de IA e entusiastas\n",
            "\n",
            "**Outras Sugestões:**\n",
            "\n",
            "* **Participe de workshops e hackathons de IA**\n",
            "* **Leia artigos e assista a palestras sobre IA**\n",
            "* **Experimente com ferramentas e bibliotecas de IA**\n",
            "* **Construa seus próprios projetos de IA**\n",
            "* **Conecte-se com outros profissionais e entusiastas de IA**\n"
          ]
        }
      ]
    },
    {
      "cell_type": "code",
      "source": [
        "chat = model.start_chat(history=[])"
      ],
      "metadata": {
        "id": "vLbqY-BliNGo"
      },
      "execution_count": 15,
      "outputs": []
    },
    {
      "cell_type": "code",
      "source": [
        "prompt = input('Esperando Prompt:')\n",
        "while prompt != \"fim\":\n",
        "  response = chat.send_message(prompt)\n",
        "  print('Resposta: ', response.text, \"\\n\")\n",
        "  prompt = input(\"Esperando Prompt: \")"
      ],
      "metadata": {
        "colab": {
          "base_uri": "https://localhost:8080/",
          "height": 190
        },
        "id": "E8zzz8e-izc_",
        "outputId": "bf6b21f1-561d-4403-9912-0e2e63beca63"
      },
      "execution_count": 26,
      "outputs": [
        {
          "name": "stdout",
          "output_type": "stream",
          "text": [
            "Esperando Prompt:Qual a cidade onde o peixe para? \n",
            "Resposta:  Parada de ônibus \n",
            "\n",
            "Esperando Prompt: Não, a cidade conhecida por suas pamonhas \n",
            "Resposta:  Piracicaba \n",
            "\n",
            "Esperando Prompt: Acertou! Obrigado\n",
            "Resposta:  De nada! Fico feliz em poder ajudar. Se você tiver mais alguma dúvida, fique à vontade para perguntar. Estou aqui para ajudar. \n",
            "\n",
            "Esperando Prompt: fim\n"
          ]
        }
      ]
    }
  ]
}